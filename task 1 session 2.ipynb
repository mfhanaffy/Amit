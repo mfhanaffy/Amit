{
  "nbformat": 4,
  "nbformat_minor": 0,
  "metadata": {
    "colab": {
      "provenance": [],
      "authorship_tag": "ABX9TyPI5hK5BWN9ohP6C5gdOCvn",
      "include_colab_link": true
    },
    "kernelspec": {
      "name": "python3",
      "display_name": "Python 3"
    },
    "language_info": {
      "name": "python"
    }
  },
  "cells": [
    {
      "cell_type": "markdown",
      "metadata": {
        "id": "view-in-github",
        "colab_type": "text"
      },
      "source": [
        "<a href=\"https://colab.research.google.com/github/mfhanaffy/Amit/blob/Python/task%201%20session%202.ipynb\" target=\"_parent\"><img src=\"https://colab.research.google.com/assets/colab-badge.svg\" alt=\"Open In Colab\"/></a>"
      ]
    },
    {
      "cell_type": "code",
      "execution_count": 18,
      "metadata": {
        "colab": {
          "base_uri": "https://localhost:8080/"
        },
        "id": "om9eblrC4_du",
        "outputId": "d67ab319-9aa8-45a5-96d9-d53488b89623"
      },
      "outputs": [
        {
          "output_type": "stream",
          "name": "stdout",
          "text": [
            "the value of G:.0000000000667\n",
            "the value of M(earth):6000000000000000000000000\n",
            "the value of m(moon):73400000000000000000000\n",
            "the value of r:384000000\n",
            "1.9920979817708333e+20\n"
          ]
        }
      ],
      "source": [
        "G_value = float(input(\"the value of G:\"))\n",
        "M_value = float(input(\"the value of M(earth):\"))\n",
        "m_value = float(input(\"the value of m(moon):\"))\n",
        "r_value = float(input(\"the value of r:\"))\n",
        "Fg_value = (G_value*M_value*m_value)/(r_value**2)\n",
        "print(Fg_value)"
      ]
    },
    {
      "cell_type": "code",
      "source": [
        ".0000000000667\n",
        "6000000000000000000000000\n",
        "73400000000000000000000\n",
        "384000000"
      ],
      "metadata": {
        "colab": {
          "base_uri": "https://localhost:8080/"
        },
        "id": "VcAP5R2A5B-m",
        "outputId": "4dc37cfd-0d28-4f3a-bbfd-52514ba2ca1f"
      },
      "execution_count": 7,
      "outputs": [
        {
          "output_type": "execute_result",
          "data": {
            "text/plain": [
              "4"
            ]
          },
          "metadata": {},
          "execution_count": 7
        }
      ]
    },
    {
      "cell_type": "code",
      "source": [],
      "metadata": {
        "id": "ulXvEjr55uml"
      },
      "execution_count": 7,
      "outputs": []
    }
  ]
}